{
 "cells": [
  {
   "cell_type": "markdown",
   "id": "47f789bc-59ac-4045-a92e-5ff75362a836",
   "metadata": {},
   "source": [
    "<h1>Downloads Soil Data"
   ]
  },
  {
   "cell_type": "markdown",
   "id": "8ee6ffc0-d9f9-4eed-aa29-0ca7871e3985",
   "metadata": {},
   "source": [
    "---"
   ]
  },
  {
   "cell_type": "markdown",
   "id": "ea8b0c20-11bd-4edd-94dc-dc794b01a1ed",
   "metadata": {
    "tags": []
   },
   "source": [
    "<h3> Jack Colwell and Sujan Pal\n",
    "    \n",
    "    Data from: loggers located at ATMOS and data collected from Zentra website"
   ]
  },
  {
   "cell_type": "markdown",
   "id": "7d7d02f0-dbcf-4958-9716-af9b6fb0c36e",
   "metadata": {},
   "source": [
    "<h2>Imports"
   ]
  },
  {
   "cell_type": "markdown",
   "id": "343f2631-30d0-4954-9095-997638fef9ea",
   "metadata": {},
   "source": [
    "---"
   ]
  },
  {
   "cell_type": "code",
   "execution_count": 1,
   "id": "0a37db8f-3cf0-4fa8-83f2-6ab0932ac9f9",
   "metadata": {
    "tags": []
   },
   "outputs": [],
   "source": [
    "from zentra.api import *"
   ]
  },
  {
   "cell_type": "code",
   "execution_count": 2,
   "id": "9bf475dc-5d36-4909-94e5-bc69ab10adff",
   "metadata": {
    "tags": []
   },
   "outputs": [],
   "source": [
    "import os "
   ]
  },
  {
   "cell_type": "code",
   "execution_count": 3,
   "id": "9779b878-c76b-49c7-ae60-b237fc50e32e",
   "metadata": {
    "tags": []
   },
   "outputs": [],
   "source": [
    "import pandas as pd"
   ]
  },
  {
   "cell_type": "code",
   "execution_count": 4,
   "id": "f7648456-9ca0-4c4a-a126-e97bce9cc5b6",
   "metadata": {
    "tags": []
   },
   "outputs": [],
   "source": [
    "import time"
   ]
  },
  {
   "cell_type": "markdown",
   "id": "1789781c-f272-4590-a7f0-c2d3d5c6226b",
   "metadata": {},
   "source": [
    "<h2>Downloads Data from the Loggers at the Zentra Website"
   ]
  },
  {
   "cell_type": "markdown",
   "id": "33520595-7bf1-4965-8d69-4a19cb70aefe",
   "metadata": {},
   "source": [
    "---"
   ]
  },
  {
   "cell_type": "code",
   "execution_count": 5,
   "id": "b5f53acd-d25e-4268-8a6f-ce9a83506498",
   "metadata": {
    "collapsed": true,
    "jupyter": {
     "outputs_hidden": true
    },
    "tags": []
   },
   "outputs": [
    {
     "name": "stdout",
     "output_type": "stream",
     "text": [
      "0\n",
      "here\n",
      "1\n",
      "here\n",
      "2\n",
      "here\n",
      "3\n",
      "here\n",
      "4\n",
      "here\n",
      "5\n",
      "here\n",
      "6\n",
      "here\n",
      "7\n",
      "here\n",
      "8\n",
      "here\n",
      "9\n",
      "here\n",
      "10\n",
      "here\n"
     ]
    }
   ],
   "source": [
    "os.chdir(r'C:\\Users\\colwe\\OneDrive\\Desktop\\Argonne\\ATMOS484\\ATMOS484-master\\input\\TEROS')\n",
    "\n",
    "#This token allows one to login to the Zentra website\n",
    "token = ZentraToken(username='jcolwell@anl.gov',password='!Jc161616!')\n",
    "\n",
    "#This creates a list of the device serial numbers to be accessed\n",
    "Device_SN = [\"z6-19423\",\"z6-04621\",\"z6-04618\",\"z6-04625\",\"z6-04619\",\"z6-04629\",\"z6-04641\",\"z6-04638\",\"z6-04624\",\"z6-04627\",\"z6-04620\"]\n",
    "\n",
    "#This starts a counter for the devices serial numbers, starting at 0\n",
    "i = 0\n",
    "\n",
    "#This starts a loop while i is less than or equal to 10\n",
    "while i <= 10:\n",
    "    \n",
    "    #This prints the current iteration of i after each pass through the loop\n",
    "    print(i)\n",
    "    \n",
    "    #This block of code initiates a try-except block. It attempts to retrieve readings from a Zentra device specified by the serial number Device_SN[i]. It uses the ZentraReadings function or class to retrieve the readings and passes the necessary parameters, such as the serial number, token, start time, and end time.\n",
    "    #The .datetime and end_time grab the desired dataset. \n",
    "    try:\n",
    "        readings = ZentraReadings(sn=Device_SN[i],token=token,start_time=int(datetime.datetime(year=2022,month=6,day=1).timestamp()),end_time=int(datetime.datetime(year=2023,month=6,day=1).timestamp())) \n",
    "        \n",
    "        #This prints here to show that it is downloading correctly\n",
    "        print('here')\n",
    "        \n",
    "        #This retrieves the data values\n",
    "        data = readings.timeseries[0].values\n",
    "        \n",
    "        #This line writes the data to a csv file\n",
    "        data.to_csv(path_or_buf=str(i+1)+\"_\"+Device_SN[i]+\".csv\")\n",
    "        \n",
    "        #This iterates over the loop by 1 each time\n",
    "        i += 1\n",
    "        \n",
    "    #This adds 30 seconds of wait time if the above code does not work\n",
    "    except:\n",
    "        time.sleep(30) # The loop will crash if we don't wait a bit. METER configuration. \n",
    "        pass"
   ]
  }
 ],
 "metadata": {
  "kernelspec": {
   "display_name": "Python 3 (ipykernel)",
   "language": "python",
   "name": "python3"
  },
  "language_info": {
   "codemirror_mode": {
    "name": "ipython",
    "version": 3
   },
   "file_extension": ".py",
   "mimetype": "text/x-python",
   "name": "python",
   "nbconvert_exporter": "python",
   "pygments_lexer": "ipython3",
   "version": "3.11.3"
  },
  "toc-showmarkdowntxt": false
 },
 "nbformat": 4,
 "nbformat_minor": 5
}
